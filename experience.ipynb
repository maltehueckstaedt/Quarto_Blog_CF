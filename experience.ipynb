{
  "cells": [
    {
      "cell_type": "raw",
      "metadata": {},
      "source": [
        "---\n",
        "title: \"Experience\"\n",
        "\n",
        "---"
      ],
      "id": "0036ebaa"
    },
    {
      "cell_type": "markdown",
      "metadata": {},
      "source": [
        "```{mermaid}\n",
        "gantt\n",
        "dateFormat YYYY\n",
        "axisFormat %Y-%m\n",
        "Initial milestone : milestone, m1, 02-2022,2month\n",
        "taska2 : 2y\n",
        "taska3 : 5min\n",
        "Final milestone : milestone, m2, 18:14, 2min\n",
        "\n",
        "```\n",
        "\n",
        "```{html}\n",
        "<body>\n",
        "  <pre class=\"mermaid\">\n",
        "    gantt\n",
        "      dateFormat  YYYY-MM-DD\n",
        "\n",
        "      section Clickable\n",
        "      Visit mermaidjs           :active, cl1, 2014-01-07, 3d\n",
        "      Print arguments         :cl2, after cl1, 3d\n",
        "      Print task              :cl3, after cl2, 3d\n",
        "\n",
        "      click cl1 href \"https://mermaidjs.github.io/\"\n",
        "      click cl2 call printArguments(\"test1\", \"test2\", test3)\n",
        "      click cl3 call printTask()\n",
        "  </pre>\n",
        "\n",
        "  <script>\n",
        "    const printArguments = function (arg1, arg2, arg3) {\n",
        "      alert('printArguments called with arguments: ' + arg1 + ', ' + arg2 + ', ' + arg3);\n",
        "    };\n",
        "    const printTask = function (taskId) {\n",
        "      alert('taskId: ' + taskId);\n",
        "    };\n",
        "    const config = {\n",
        "      startOnLoad: true,\n",
        "      securityLevel: 'loose',\n",
        "    };\n",
        "    mermaid.initialize(config);\n",
        "  </script>\n",
        "</body>\n",
        "\n",
        "```"
      ],
      "id": "a14e885a"
    }
  ],
  "metadata": {
    "kernelspec": {
      "display_name": "Python 3",
      "language": "python",
      "name": "python3"
    }
  },
  "nbformat": 4,
  "nbformat_minor": 5
}